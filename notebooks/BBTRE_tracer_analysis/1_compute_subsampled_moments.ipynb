{
 "cells": [
  {
   "cell_type": "code",
   "execution_count": 37,
   "metadata": {},
   "outputs": [
    {
     "name": "stdout",
     "output_type": "stream",
     "text": [
      "The autoreload extension is already loaded. To reload it, use:\n",
      "  %reload_ext autoreload\n"
     ]
    }
   ],
   "source": [
    "%load_ext autoreload\n",
    "%autoreload 2"
   ]
  },
  {
   "cell_type": "code",
   "execution_count": 38,
   "metadata": {},
   "outputs": [],
   "source": [
    "import sys\n",
    "sys.path.append(\"../BBTRE_physics_analysis/\") "
   ]
  },
  {
   "cell_type": "code",
   "execution_count": 39,
   "metadata": {},
   "outputs": [],
   "source": [
    "import numpy as np\n",
    "import xarray as xr\n",
    "import pandas as pd\n",
    "\n",
    "from xmitgcm import open_mdsdataset \n",
    "from xhistogram.xarray import histogram\n",
    "\n",
    "from osse import *\n",
    "from canyon_utils import *\n",
    "from sloped_MITgcm import *\n",
    "from wmt import *"
   ]
  },
  {
   "cell_type": "markdown",
   "metadata": {},
   "source": [
    "### Configuration parameters"
   ]
  },
  {
   "cell_type": "code",
   "execution_count": 40,
   "metadata": {},
   "outputs": [],
   "source": [
    "# Constant parameters\n",
    "\n",
    "Γ = 0.0008613659531090722\n",
    "N = np.sqrt(g*α*Γ)\n",
    "θ = 1.26E-3\n",
    "f = -5.3e-5\n",
    "\n",
    "h = 230\n",
    "k0 = 5.2e-5\n",
    "k1 = 1.8e-3\n",
    "\n",
    "dx = 600.; dy = 600.\n",
    "delta_t = 15."
   ]
  },
  {
   "cell_type": "markdown",
   "metadata": {},
   "source": [
    "### Load output"
   ]
  },
  {
   "cell_type": "code",
   "execution_count": 41,
   "metadata": {},
   "outputs": [],
   "source": [
    "runname = \"run\"\n",
    "data_dir = f\"../../MITgcm/experiments/rotated_BBTRE_canyon-tracer/{runname}/\"\n",
    "budget_diags = [\"budgetDiag\", \"tracer01Diag\", \"tracer02Diag\", \"tracer03Diag\"]\n",
    "ds = open_mdsdataset(data_dir,ignore_unknown_vars=True,prefix=budget_diags, delta_t=delta_t)\n",
    "ds = ds.drop(['maskC', 'TOTTTEND', 'Tp_gTr01', 'Tp_gTr02', 'Tp_gTr03'])\n",
    "ds = ds.sel(time=ds['time'][1::2])\n",
    "Lx = dx*ds[\"XC\"].size\n",
    "ds = periodic_extend(ds, ['XC', 'XG'], Lx, [-1,0])\n",
    "xslice = [500, 500+800]\n",
    "ds = ds.isel(XC=slice(*xslice), XG=slice(*xslice))\n",
    "ds, grid = add_rotated_coords(ds, θ)\n",
    "\n",
    "ds['THETA'] = ds['THETA'].where(ds['THETA'] != 0.)\n",
    "ds['THETA_BG_C'] = Γ*ds['Zr']\n",
    "ds['θ'] = ds['THETA'] + ds['THETA_BG_C']\n",
    "add_gradients(ds, grid, 'θ');\n",
    "\n",
    "ds = ds.drop_dims(['XG', 'YG', 'Zp1', 'Zu', 'Zl'])\n",
    "ds['dV'] = (ds.drF * ds.rA * ds.hFacC)\n",
    "\n",
    "ds = ds.assign_coords({'days': (ds['time'].astype('float64')*1.e-9/86400.) - 5000.*(delta_t/60.)})"
   ]
  },
  {
   "cell_type": "code",
   "execution_count": 42,
   "metadata": {},
   "outputs": [],
   "source": [
    "ids_tmp = ds.sel(YC=ds.YC[ds.YC.size//2]).sel(XC=ds.XC[50::100])"
   ]
  },
  {
   "cell_type": "code",
   "execution_count": 43,
   "metadata": {},
   "outputs": [
    {
     "name": "stderr",
     "output_type": "stream",
     "text": [
      "/home/hdrake/.conda/envs/sim-bbtre-plus/lib/python3.10/site-packages/dask/core.py:119: RuntimeWarning: invalid value encountered in true_divide\n",
      "  return func(*(_execute_task(a, cache) for a in args))\n"
     ]
    }
   ],
   "source": [
    "# from dask.diagnostics import ProgressBar\n",
    "# with ProgressBar():\n",
    "ids = xr.concat([ids_tmp.sel(time=t).compute() for t in ds.time], dim='time')"
   ]
  },
  {
   "cell_type": "markdown",
   "metadata": {},
   "source": [
    "## Various first moments"
   ]
  },
  {
   "cell_type": "code",
   "execution_count": 44,
   "metadata": {},
   "outputs": [
    {
     "name": "stdout",
     "output_type": "stream",
     "text": [
      "Computing various 1st moments for Tracer 1\n",
      "Computing various 1st moments for Tracer 2\n",
      "Computing various 1st moments for Tracer 3\n"
     ]
    }
   ],
   "source": [
    "for tr in [1, 2, 3]:\n",
    "    print(f\"Computing various 1st moments for Tracer {tr}\")\n",
    "    ids[f'TRAC0{tr}dV'] = (ids[f'TRAC0{tr}']*ids['dV']).compute()\n",
    "    ids[f'M_Tr0{tr}'] = ids[f'TRAC0{tr}dV'].sum(dim=['Z', 'XC']).compute()\n",
    "    ids[f'Xbar_Tr0{tr}'] = ((ids['XC']*ids[f'TRAC0{tr}dV']).sum(dim=['Z', 'XC']) / ids[f'M_Tr0{tr}']).compute()\n",
    "    ids[f'Zbar_Tr0{tr}'] = ((ids['Z']*ids[f'TRAC0{tr}dV']).sum(dim=['Z', 'XC']) / ids[f'M_Tr0{tr}']).compute()\n",
    "    ids[f'Zrbar_Tr0{tr}'] = ((ids['Zr']*ids[f'TRAC0{tr}dV']).sum(dim=['Z', 'XC']) / ids[f'M_Tr0{tr}']).compute()\n",
    "    #ids[f'HABbar_Tr0{tr}'] = ((ids['Z_habC']*ids[f'TRAC0{tr}dV']).sum(dim=['Z', 'XC']) / ids[f'M_Tr0{tr}']).compute()\n",
    "    ids[f'θbar_Tr0{tr}'] = ((ids['θ']*ids[f'TRAC0{tr}dV']).sum(dim=['Z', 'XC']) / ids[f'M_Tr0{tr}']).compute()\n",
    "    ids[f'θ2bar_Tr0{tr}'] = ((((ids['θ'] - ids[f'θbar_Tr0{tr}'])**2)*ids[f'TRAC0{tr}dV']).sum(dim=['Z', 'XC']) / ids[f'M_Tr0{tr}']).compute()\n",
    "    \n",
    "    # Gradients\n",
    "    ids['Gradθ**2'] = ids['dθdx']**2 + ids['dθdy']**2 + ids[f'dθdz']**2\n",
    "    ids[f'Gradθbar_Tr0{tr}'] = ((np.sqrt(ids['Gradθ**2'])*ids[f'TRAC0{tr}']*ids['dV']).sum(['Z', 'XC']) / ids[f'M_Tr0{tr}']).compute()\n",
    "    ids[f'Gradθ**2bar_Tr0{tr}'] = ((ids['Gradθ**2']*ids[f'TRAC0{tr}']*ids['dV']).sum(['Z', 'XC']) / ids[f'M_Tr0{tr}']).compute()\n",
    "    \n",
    "    ids[f'dθdzbar_Tr0{tr}'] = ((ids['dθdz']*ids[f'TRAC0{tr}']*ids['dV']).sum(['Z', 'XC']) / ids[f'M_Tr0{tr}']).compute()\n",
    "    ids[f'dθdz**2bar_Tr0{tr}'] = (((ids['dθdz']**2)*ids[f'TRAC0{tr}']*ids['dV']).sum(['Z', 'XC']) / ids[f'M_Tr0{tr}']).compute()"
   ]
  },
  {
   "cell_type": "code",
   "execution_count": 45,
   "metadata": {},
   "outputs": [],
   "source": [
    "saving = ids.copy()\n",
    "\n",
    "saving['time'].dims\n",
    "for dv in list(saving.data_vars)+list(saving.coords):\n",
    "    if (saving[dv].dims != ('time',)):\n",
    "        saving = saving.drop_vars([dv])\n",
    "        \n",
    "saving.to_netcdf(\"../../data/BBTRE-tracer/subsampled_tracer_moments.nc\", mode='w')"
   ]
  },
  {
   "cell_type": "code",
   "execution_count": null,
   "metadata": {},
   "outputs": [],
   "source": []
  },
  {
   "cell_type": "code",
   "execution_count": null,
   "metadata": {},
   "outputs": [],
   "source": []
  }
 ],
 "metadata": {
  "kernelspec": {
   "display_name": "Python 3 (ipykernel)",
   "language": "python",
   "name": "python3"
  },
  "language_info": {
   "codemirror_mode": {
    "name": "ipython",
    "version": 3
   },
   "file_extension": ".py",
   "mimetype": "text/x-python",
   "name": "python",
   "nbconvert_exporter": "python",
   "pygments_lexer": "ipython3",
   "version": "3.10.4"
  }
 },
 "nbformat": 4,
 "nbformat_minor": 4
}
